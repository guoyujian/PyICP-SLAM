{
 "cells": [
  {
   "cell_type": "code",
   "execution_count": 1,
   "metadata": {},
   "outputs": [
    {
     "name": "stdout",
     "output_type": "stream",
     "text": [
      "Jupyter environment detected. Enabling Open3D WebVisualizer.\n",
      "[Open3D INFO] WebRTC GUI backend enabled.\n",
      "[Open3D INFO] WebRTCWindowSystem: HTTP handshake server disabled.\n"
     ]
    }
   ],
   "source": [
    "import open3d as o3d\n",
    "import numpy as np"
   ]
  },
  {
   "cell_type": "code",
   "execution_count": null,
   "metadata": {},
   "outputs": [],
   "source": [
    "loop_frame_path = 'C:/Users/jkkc/Desktop/TEST/1_transed/1703038954.652.pcd'\n",
    "curr_frame_path = 'C:/Users/jkkc/Desktop/TEST/1_transed/1703039136.148.pcd'\n",
    "\n",
    "loop_2_curr_relative_transformation = np.array([[ 9.9900e-01, -1.6743e-04, -4.4792e-02,  5.2065e-01],\n",
    " [ 1.6117e-02,  9.3436e-01,  3.5597e-01, 1.0754e+00],\n",
    " [ 4.1792e-02, -3.5634e-01,  9.3342e-01,  1.9941e-01],\n",
    " [ 0.0000e+00,  0.0000e+00, 0.0000e+00,  1.0000e+00],\n",
    " ])"
   ]
  },
  {
   "cell_type": "code",
   "execution_count": null,
   "metadata": {},
   "outputs": [],
   "source": [
    "loop_frame = o3d.io.read_point_cloud(loop_frame_path)\n",
    "curr_frame = o3d.io.read_point_cloud(curr_frame_path)\n",
    "\n",
    "o3d.visualization.draw_geometries([loop_frame, curr_frame])"
   ]
  }
 ],
 "metadata": {
  "kernelspec": {
   "display_name": "pcd",
   "language": "python",
   "name": "python3"
  },
  "language_info": {
   "codemirror_mode": {
    "name": "ipython",
    "version": 3
   },
   "file_extension": ".py",
   "mimetype": "text/x-python",
   "name": "python",
   "nbconvert_exporter": "python",
   "pygments_lexer": "ipython3",
   "version": "3.8.19"
  }
 },
 "nbformat": 4,
 "nbformat_minor": 2
}
